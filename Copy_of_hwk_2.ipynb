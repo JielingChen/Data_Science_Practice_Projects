{
  "nbformat": 4,
  "nbformat_minor": 0,
  "metadata": {
    "colab": {
      "provenance": [],
      "include_colab_link": true
    },
    "kernelspec": {
      "name": "python3",
      "display_name": "Python 3"
    },
    "language_info": {
      "name": "python"
    }
  },
  "cells": [
    {
      "cell_type": "markdown",
      "metadata": {
        "id": "view-in-github",
        "colab_type": "text"
      },
      "source": [
        "<a href=\"https://colab.research.google.com/github/JielingChen/Data_Science_Practice_Projects/blob/main/Copy_of_hwk_2.ipynb\" target=\"_parent\"><img src=\"https://colab.research.google.com/assets/colab-badge.svg\" alt=\"Open In Colab\"/></a>"
      ]
    },
    {
      "cell_type": "markdown",
      "source": [
        "* Use the state of the union addresses to create a term document matrix. Perform stemming and remove the alphabets and stop words.\n",
        "\n",
        "* Let $p$ and $n$ stand for the number of words and documents, respectively. After preprocessing as stated above, what is $p,n$?\n",
        "\n",
        "* Compute the cosine dissimality between the documents.\n",
        "\n",
        "* Apply K-means for $K=1,\\cdots,20$. Plot within-cluster sum of squares (WCSS) as a function of $K$. Use this graph to decide on the appropiate number of clusters.\n",
        "\n",
        "* Print the name of the presidents, along with the year of the state of the union addresses that fall within the same cluster. Make it presentable and concise.\n",
        "\n",
        "* Create a heatmap of the dissimilarity by putting documents that are in the same cluster next to each other.\n",
        "\n",
        "\n"
      ],
      "metadata": {
        "id": "l49zQ3OGGLAX"
      }
    },
    {
      "cell_type": "code",
      "execution_count": null,
      "metadata": {
        "id": "-4AgATB3GI7Y"
      },
      "outputs": [],
      "source": []
    }
  ]
}