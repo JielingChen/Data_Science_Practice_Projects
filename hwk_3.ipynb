{
  "nbformat": 4,
  "nbformat_minor": 0,
  "metadata": {
    "colab": {
      "provenance": [],
      "include_colab_link": true
    },
    "kernelspec": {
      "name": "python3",
      "display_name": "Python 3"
    },
    "language_info": {
      "name": "python"
    }
  },
  "cells": [
    {
      "cell_type": "markdown",
      "metadata": {
        "id": "view-in-github",
        "colab_type": "text"
      },
      "source": [
        "<a href=\"https://colab.research.google.com/github/JielingChen/Data_Science_Practice_Projects/blob/main/hwk_3.ipynb\" target=\"_parent\"><img src=\"https://colab.research.google.com/assets/colab-badge.svg\" alt=\"Open In Colab\"/></a>"
      ]
    },
    {
      "cell_type": "markdown",
      "source": [
        "**Sentiment Analysis of IMDB Movie Reviews**\n",
        "\n",
        "IMDB dataset having 50K movie reviews for natural language processing or Text analytics.\n",
        "This is a dataset for binary sentiment classification containing substantially more data than previous benchmark datasets. We provide a set of 25,000 highly polar movie reviews for training and 25,000 for testing. So, predict the number of positive and negative reviews using either classification or deep learning algorithms.\n",
        "For more dataset information, please go through the following link,\n",
        "http://ai.stanford.edu/~amaas/data/sentiment/\n",
        "\n"
      ],
      "metadata": {
        "id": "_BqE9zUwsxqR"
      }
    },
    {
      "cell_type": "markdown",
      "source": [
        "**Homework Assignment**\n",
        "\n",
        "* Load the IMDB review data set. Perform stemming and remove the non-alphabets and stop words.\n",
        "\n",
        "* Create the **TD matrix** for both the training and testing data.\n",
        "\n",
        "* Create the **TF-IDF matrix** for both the training and testing data.\n",
        "\n",
        "* Let $n$ and $p$ stand for the number of observations and the number of features, respectively. Print $n$ and $p$.\n",
        "\n",
        "* Fit a logistic regression model (with no regularization) to the training **TD matrix**. Call the resulting model **TD-logistic-model**.\n",
        "\n",
        "* Fit a logistic regression model (with no regularization) to the training **TF-IDF matrix**. Call the resulting model **TF-IDF-logistic-model**.\n",
        "\n",
        "\n",
        "* Use the **TD-logistic-model** to make predictions, and to compute the true and false positive rate for the testing data for thresholds $\\theta \\in [0.01, 0.02, 0.03, \\cdots, 0.96, 0.97, 0.98, 0.99]$.\n",
        "\n",
        "\n",
        "* Use the **TF-IDF-logistic-model** to make predictions, and to compute the true and false positive rate for the testing data for thresholds $\\theta \\in [0.01, 0.02, 0.03, \\cdots, 0.96, 0.97, 0.98, 0.99]$.\n",
        "\n",
        "* Use the last two parts, to compute the test AUC for **TD-logistic-model** and **TF-IDF-logistic-model**, and to plot the ROC for both models on the same plot, and to report the AUCs on the plot.\n",
        "\n",
        "* Do you see a difference between the test AUC performance for the two models?\n",
        "\n"
      ],
      "metadata": {
        "id": "5VJGj8KjrYwx"
      }
    }
  ]
}